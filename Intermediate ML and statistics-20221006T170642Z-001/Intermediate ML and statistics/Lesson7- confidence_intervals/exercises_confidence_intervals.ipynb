{
 "cells": [
  {
   "cell_type": "markdown",
   "id": "dba12230",
   "metadata": {},
   "source": [
    "# CI mean"
   ]
  },
  {
   "cell_type": "markdown",
   "id": "3fc4dc18",
   "metadata": {},
   "source": [
    "Facebook would like to know the average time spent on their site. To do so, they launched a study on 100 people and asked them how much time they spend on Facebook per day:\n",
    "Open the Hours spent on Facebook.xlsx file.\n",
    "Calculate the mean and standard deviation of the dataset.\n",
    "We would like to know the mean of the total population. Calculate the 95% confidence interval."
   ]
  },
  {
   "cell_type": "code",
   "execution_count": 11,
   "id": "9a123f64",
   "metadata": {},
   "outputs": [],
   "source": [
    "import pandas as pd\n",
    "import numpy as np\n",
    "import math as m\n",
    "import scipy.stats as stats"
   ]
  },
  {
   "cell_type": "markdown",
   "id": "fbf90385",
   "metadata": {},
   "source": [
    "## t statistics \n",
    "\n",
    "[mean - error, mean + error] # confidence interval for level confidence alpha typical 0.05\n",
    "\n",
    "\n",
    "1. mean of the sample\n",
    "2. error = t s/sqrt(n) we need know std deviation: belief that the std deviation of the sample is exactly \n",
    " std deviation of the population\n",
    "\n",
    "n = number samples\n",
    "s = std deviation of the sample distribution\n",
    "t ????\n",
    "t is the quantile such that p(x <=t)= 1- alpha  ## distr.cdf(t) =0.95 -->  t = distr.ppf(0.95)\n",
    "ppf: Percent Point Function (Inverse of CDF)\n",
    "\n",
    "\n",
    "    "
   ]
  },
  {
   "cell_type": "code",
   "execution_count": 14,
   "id": "94e92c1f",
   "metadata": {},
   "outputs": [],
   "source": [
    "df = pd.read_excel(\"Hours Spent on Facebook.xlsx\")"
   ]
  },
  {
   "cell_type": "code",
   "execution_count": 15,
   "id": "57a58246",
   "metadata": {},
   "outputs": [
    {
     "data": {
      "text/html": [
       "<div>\n",
       "<style scoped>\n",
       "    .dataframe tbody tr th:only-of-type {\n",
       "        vertical-align: middle;\n",
       "    }\n",
       "\n",
       "    .dataframe tbody tr th {\n",
       "        vertical-align: top;\n",
       "    }\n",
       "\n",
       "    .dataframe thead th {\n",
       "        text-align: right;\n",
       "    }\n",
       "</style>\n",
       "<table border=\"1\" class=\"dataframe\">\n",
       "  <thead>\n",
       "    <tr style=\"text-align: right;\">\n",
       "      <th></th>\n",
       "      <th>Customer</th>\n",
       "      <th>Hours spent on Facebook on Mobile</th>\n",
       "    </tr>\n",
       "  </thead>\n",
       "  <tbody>\n",
       "    <tr>\n",
       "      <th>0</th>\n",
       "      <td>1</td>\n",
       "      <td>4.092475</td>\n",
       "    </tr>\n",
       "    <tr>\n",
       "      <th>1</th>\n",
       "      <td>2</td>\n",
       "      <td>7.233371</td>\n",
       "    </tr>\n",
       "    <tr>\n",
       "      <th>2</th>\n",
       "      <td>3</td>\n",
       "      <td>7.455792</td>\n",
       "    </tr>\n",
       "    <tr>\n",
       "      <th>3</th>\n",
       "      <td>4</td>\n",
       "      <td>7.253503</td>\n",
       "    </tr>\n",
       "    <tr>\n",
       "      <th>4</th>\n",
       "      <td>5</td>\n",
       "      <td>2.249682</td>\n",
       "    </tr>\n",
       "    <tr>\n",
       "      <th>...</th>\n",
       "      <td>...</td>\n",
       "      <td>...</td>\n",
       "    </tr>\n",
       "    <tr>\n",
       "      <th>97</th>\n",
       "      <td>98</td>\n",
       "      <td>3.748613</td>\n",
       "    </tr>\n",
       "    <tr>\n",
       "      <th>98</th>\n",
       "      <td>99</td>\n",
       "      <td>8.130037</td>\n",
       "    </tr>\n",
       "    <tr>\n",
       "      <th>99</th>\n",
       "      <td>100</td>\n",
       "      <td>1.433601</td>\n",
       "    </tr>\n",
       "    <tr>\n",
       "      <th>100</th>\n",
       "      <td>101</td>\n",
       "      <td>8.507827</td>\n",
       "    </tr>\n",
       "    <tr>\n",
       "      <th>101</th>\n",
       "      <td>102</td>\n",
       "      <td>8.153064</td>\n",
       "    </tr>\n",
       "  </tbody>\n",
       "</table>\n",
       "<p>102 rows × 2 columns</p>\n",
       "</div>"
      ],
      "text/plain": [
       "     Customer   Hours spent on Facebook on Mobile\n",
       "0            1                           4.092475\n",
       "1            2                           7.233371\n",
       "2            3                           7.455792\n",
       "3            4                           7.253503\n",
       "4            5                           2.249682\n",
       "..         ...                                ...\n",
       "97          98                           3.748613\n",
       "98          99                           8.130037\n",
       "99         100                           1.433601\n",
       "100        101                           8.507827\n",
       "101        102                           8.153064\n",
       "\n",
       "[102 rows x 2 columns]"
      ]
     },
     "execution_count": 15,
     "metadata": {},
     "output_type": "execute_result"
    }
   ],
   "source": [
    "df"
   ]
  },
  {
   "cell_type": "code",
   "execution_count": 16,
   "id": "59410d4f",
   "metadata": {},
   "outputs": [
    {
     "data": {
      "text/plain": [
       "Index(['Customer ', 'Hours spent on Facebook on Mobile'], dtype='object')"
      ]
     },
     "execution_count": 16,
     "metadata": {},
     "output_type": "execute_result"
    }
   ],
   "source": [
    "df.columns"
   ]
  },
  {
   "cell_type": "code",
   "execution_count": 17,
   "id": "f59c8b66",
   "metadata": {},
   "outputs": [],
   "source": [
    "# we want give avg number of hours that people spend online on FB"
   ]
  },
  {
   "cell_type": "code",
   "execution_count": 18,
   "id": "97d3ae04",
   "metadata": {},
   "outputs": [],
   "source": [
    "n=102"
   ]
  },
  {
   "cell_type": "code",
   "execution_count": 19,
   "id": "05ea2fd0",
   "metadata": {},
   "outputs": [
    {
     "name": "stdout",
     "output_type": "stream",
     "text": [
      "4.847316438536623 2.9789129198018\n"
     ]
    }
   ],
   "source": [
    "# mean and std \n",
    "mean = df['Hours spent on Facebook on Mobile'].mean()\n",
    "std = df['Hours spent on Facebook on Mobile'].std()\n",
    "print(mean, std)"
   ]
  },
  {
   "cell_type": "code",
   "execution_count": 25,
   "id": "9c5d626c",
   "metadata": {},
   "outputs": [],
   "source": [
    "# error = t * std/sqrt(n)\n",
    "#(mean -error, mean + error)"
   ]
  },
  {
   "cell_type": "code",
   "execution_count": 22,
   "id": "d0b6c787",
   "metadata": {
    "scrolled": true
   },
   "outputs": [],
   "source": [
    "#t: p(x <= t)= 0.95 # t t-statistics scipy stats\n",
    "t =  stats.t.ppf(0.975, df=n-1) # 0.975 because Gaussian is symmetric and we need divide 0.05/2\n",
    "\n",
    "    \n",
    "    "
   ]
  },
  {
   "cell_type": "code",
   "execution_count": 23,
   "id": "8fa01ee3",
   "metadata": {},
   "outputs": [],
   "source": [
    "error = t * std/(m.sqrt(n))"
   ]
  },
  {
   "cell_type": "code",
   "execution_count": 24,
   "id": "1c5e897c",
   "metadata": {},
   "outputs": [
    {
     "data": {
      "text/plain": [
       "[4.262202420575193, 5.432430456498054]"
      ]
     },
     "execution_count": 24,
     "metadata": {},
     "output_type": "execute_result"
    }
   ],
   "source": [
    "confidence_interval = [mean - error, mean + error ]\n",
    "confidence_interval"
   ]
  },
  {
   "cell_type": "code",
   "execution_count": null,
   "id": "f25d2d6f",
   "metadata": {},
   "outputs": [],
   "source": []
  }
 ],
 "metadata": {
  "kernelspec": {
   "display_name": "Python 3 (ipykernel)",
   "language": "python",
   "name": "python3"
  },
  "language_info": {
   "codemirror_mode": {
    "name": "ipython",
    "version": 3
   },
   "file_extension": ".py",
   "mimetype": "text/x-python",
   "name": "python",
   "nbconvert_exporter": "python",
   "pygments_lexer": "ipython3",
   "version": "3.9.12"
  }
 },
 "nbformat": 4,
 "nbformat_minor": 5
}
