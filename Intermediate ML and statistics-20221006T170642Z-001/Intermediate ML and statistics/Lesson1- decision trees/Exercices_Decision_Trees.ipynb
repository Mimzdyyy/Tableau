{
 "cells": [
  {
   "cell_type": "markdown",
   "metadata": {},
   "source": [
    "<div align=\"center\">\n",
    "<div style=\"width:150px\"><img src=\"logo Jedha.png\"></div>\n",
    "</div>"
   ]
  },
  {
   "cell_type": "markdown",
   "metadata": {},
   "source": [
    "# Exercises decision trees\n"
   ]
  },
  {
   "cell_type": "code",
   "execution_count": 17,
   "metadata": {
    "colab": {},
    "colab_type": "code",
    "id": "qYaVdTwIor6V"
   },
   "outputs": [],
   "source": [
    "# Import the libraries\n"
   ]
  },
  {
   "cell_type": "code",
   "execution_count": 7,
   "metadata": {
    "colab": {
     "base_uri": "https://localhost:8080/",
     "height": 239
    },
    "colab_type": "code",
    "id": "psjpce19qv0_",
    "outputId": "f5fede62-08e2-4ac3-c632-4a0e1bba9792"
   },
   "outputs": [],
   "source": [
    "# Reading the file\n",
    "#dataset wine"
   ]
  },
  {
   "cell_type": "code",
   "execution_count": 8,
   "metadata": {
    "colab": {
     "base_uri": "https://localhost:8080/",
     "height": 295
    },
    "colab_type": "code",
    "id": "cSEcRRJbq3Km",
    "outputId": "9bb5247c-1cbd-4c76-be3e-293c3c968eba"
   },
   "outputs": [],
   "source": [
    "# Nans \n"
   ]
  },
  {
   "cell_type": "code",
   "execution_count": 4,
   "metadata": {
    "colab": {},
    "colab_type": "code",
    "id": "uxNoa-enrDTG"
   },
   "outputs": [],
   "source": [
    "# Separation X and y \n"
   ]
  },
  {
   "cell_type": "code",
   "execution_count": 9,
   "metadata": {
    "colab": {},
    "colab_type": "code",
    "id": "sG77A8k1rQ5h"
   },
   "outputs": [],
   "source": [
    "# Train test split\n"
   ]
  },
  {
   "cell_type": "code",
   "execution_count": 6,
   "metadata": {
    "colab": {},
    "colab_type": "code",
    "id": "EyJxJ1pGrtL6"
   },
   "outputs": [],
   "source": [
    "# Preprocessing if needed"
   ]
  },
  {
   "cell_type": "code",
   "execution_count": 10,
   "metadata": {
    "colab": {
     "base_uri": "https://localhost:8080/",
     "height": 121
    },
    "colab_type": "code",
    "id": "Miyj68G8r34d",
    "outputId": "0c66e291-5105-4a46-9d84-7ac966095f4a"
   },
   "outputs": [],
   "source": [
    "# Decision tree model\n"
   ]
  },
  {
   "cell_type": "code",
   "execution_count": 11,
   "metadata": {
    "colab": {
     "base_uri": "https://localhost:8080/",
     "height": 52
    },
    "colab_type": "code",
    "id": "8BdnbK4Wt7T_",
    "outputId": "e2ed241a-c0fe-4ea4-d1ff-aabb0765fb5b"
   },
   "outputs": [],
   "source": [
    "# Evaluation of the model\n"
   ]
  },
  {
   "cell_type": "code",
   "execution_count": 16,
   "metadata": {
    "colab": {
     "base_uri": "https://localhost:8080/",
     "height": 139
    },
    "colab_type": "code",
    "id": "asmoqp5XuJsg",
    "outputId": "e07582d3-03b0-47e1-eca4-87c9f703d5d4"
   },
   "outputs": [],
   "source": [
    "# Let us try a random forest\n"
   ]
  },
  {
   "cell_type": "code",
   "execution_count": 13,
   "metadata": {
    "colab": {
     "base_uri": "https://localhost:8080/",
     "height": 52
    },
    "colab_type": "code",
    "id": "dceL5RACuWsv",
    "outputId": "6225de17-2b6e-4f6d-aaa8-403952720f1f"
   },
   "outputs": [],
   "source": [
    "# Evaluation of the model"
   ]
  },
  {
   "cell_type": "code",
   "execution_count": 14,
   "metadata": {
    "colab": {},
    "colab_type": "code",
    "id": "eOhn_n-0uYoW"
   },
   "outputs": [],
   "source": [
    "# Confusion matrix for test set\n"
   ]
  },
  {
   "cell_type": "code",
   "execution_count": 15,
   "metadata": {
    "colab": {
     "base_uri": "https://localhost:8080/",
     "height": 287
    },
    "colab_type": "code",
    "id": "J_gug9OZu9T-",
    "outputId": "456f4186-33d5-4ecf-a83d-7c16d6bff0de"
   },
   "outputs": [],
   "source": [
    "# Heatmap of the test matrix\n"
   ]
  },
  {
   "cell_type": "code",
   "execution_count": 12,
   "metadata": {
    "colab": {
     "base_uri": "https://localhost:8080/",
     "height": 447
    },
    "colab_type": "code",
    "id": "_wYV8bYDvErA",
    "outputId": "6dc257ab-2889-4f43-aca7-40839288f66f"
   },
   "outputs": [],
   "source": [
    "# Feature importance \n"
   ]
  },
  {
   "cell_type": "code",
   "execution_count": null,
   "metadata": {
    "colab": {},
    "colab_type": "code",
    "id": "GZ09K3NYvR_8"
   },
   "outputs": [],
   "source": []
  }
 ],
 "metadata": {
  "colab": {
   "name": "S7-B -- Exercices - Decision Trees.ipynb",
   "provenance": []
  },
  "kernelspec": {
   "display_name": "Python 3",
   "language": "python",
   "name": "python3"
  },
  "language_info": {
   "codemirror_mode": {
    "name": "ipython",
    "version": 3
   },
   "file_extension": ".py",
   "mimetype": "text/x-python",
   "name": "python",
   "nbconvert_exporter": "python",
   "pygments_lexer": "ipython3",
   "version": "3.8.3"
  }
 },
 "nbformat": 4,
 "nbformat_minor": 4
}
